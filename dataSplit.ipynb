{
 "cells": [
  {
   "cell_type": "code",
   "execution_count": 1,
   "id": "2b7bbd4f",
   "metadata": {},
   "outputs": [],
   "source": [
    "import os\n",
    "from random import choice\n",
    "import shutil"
   ]
  },
  {
   "cell_type": "code",
   "execution_count": 2,
   "id": "a0d17f9c",
   "metadata": {},
   "outputs": [
    {
     "name": "stdout",
     "output_type": "stream",
     "text": [
      "C:\\YOLOv5_training\n"
     ]
    }
   ],
   "source": [
    "%cd C:\\YOLOv5_training"
   ]
  },
  {
   "cell_type": "code",
   "execution_count": 3,
   "id": "9af3a67b",
   "metadata": {},
   "outputs": [],
   "source": [
    "if not os.path.exists('dataset'):\n",
    "    os.makedirs('dataset')"
   ]
  },
  {
   "cell_type": "code",
   "execution_count": 4,
   "id": "b82b963e",
   "metadata": {},
   "outputs": [
    {
     "name": "stdout",
     "output_type": "stream",
     "text": [
      "C:\\YOLOv5_training\\dataset\n"
     ]
    }
   ],
   "source": [
    "%cd C:\\YOLOv5_training\\dataset"
   ]
  },
  {
   "cell_type": "code",
   "execution_count": 5,
   "id": "08c74f92",
   "metadata": {},
   "outputs": [],
   "source": [
    "if not os.path.exists('images'):\n",
    "    os.mkdir('images')\n",
    "    \n",
    "if not os.path.exists('labels'):\n",
    "    os.mkdir('labels')"
   ]
  },
  {
   "cell_type": "code",
   "execution_count": 6,
   "id": "4f1a6820",
   "metadata": {},
   "outputs": [
    {
     "name": "stdout",
     "output_type": "stream",
     "text": [
      "C:\\YOLOv5_training\\dataset\\images\n"
     ]
    }
   ],
   "source": [
    "%cd C:\\YOLOv5_training\\dataset\\images"
   ]
  },
  {
   "cell_type": "code",
   "execution_count": 7,
   "id": "2b9322b3",
   "metadata": {},
   "outputs": [],
   "source": [
    "if not os.path.exists('train'):\n",
    "    os.mkdir('train')\n",
    "if not os.path.exists('val'):\n",
    "    os.mkdir('val')\n",
    "    "
   ]
  },
  {
   "cell_type": "code",
   "execution_count": 8,
   "id": "9a2d7819",
   "metadata": {},
   "outputs": [
    {
     "name": "stdout",
     "output_type": "stream",
     "text": [
      "C:\\YOLOv5_training\\dataset\\labels\n"
     ]
    }
   ],
   "source": [
    "%cd C:\\YOLOv5_training\\dataset\\labels"
   ]
  },
  {
   "cell_type": "code",
   "execution_count": 9,
   "id": "5aad5dc6",
   "metadata": {},
   "outputs": [],
   "source": [
    "if not os.path.exists('train'):\n",
    "    os.mkdir('train')\n",
    "if not os.path.exists('val'):\n",
    "    os.mkdir('val')"
   ]
  },
  {
   "cell_type": "code",
   "execution_count": 10,
   "id": "8964227f",
   "metadata": {},
   "outputs": [
    {
     "name": "stdout",
     "output_type": "stream",
     "text": [
      "C:\\YOLOv5_training\n"
     ]
    }
   ],
   "source": [
    "%cd C:\\YOLOv5_training"
   ]
  },
  {
   "cell_type": "code",
   "execution_count": 11,
   "id": "7bba8e8c",
   "metadata": {},
   "outputs": [],
   "source": [
    "# setup dir names\n",
    "trainPath = r'C:\\YOLOv5_training\\dataset\\images\\train'\n",
    "valPath= r'C:\\YOLOv5_training\\dataset\\images\\val'\n",
    "CrsPath= r'C:\\YOLOv5_training\\obj'"
   ]
  },
  {
   "cell_type": "code",
   "execution_count": 12,
   "id": "e5983cd7",
   "metadata": {},
   "outputs": [],
   "source": [
    "# arrays to store file names\n",
    "imgs = []\n",
    "txts=[]"
   ]
  },
  {
   "cell_type": "code",
   "execution_count": 13,
   "id": "d7e8310d",
   "metadata": {},
   "outputs": [],
   "source": [
    "# set up ratio\n",
    "train_ratio = 0.90\n",
    "val_ratio=0.10"
   ]
  },
  {
   "cell_type": "code",
   "execution_count": 14,
   "id": "40214544",
   "metadata": {},
   "outputs": [],
   "source": [
    "# total count of imgs\n",
    "totalImgCount = len(os.listdir(CrsPath))/2 # labels are also there so it is divided by 2"
   ]
  },
  {
   "cell_type": "code",
   "execution_count": 15,
   "id": "904a6531",
   "metadata": {},
   "outputs": [],
   "source": [
    "# storing files to corresponsign arrays\n",
    "for (dirname, dirs, files) in os.walk(CrsPath):\n",
    "    for filename in files:\n",
    "        if filename.endswith('.txt'):\n",
    "            txts.append(filename)\n",
    "        else:\n",
    "            imgs.append(filename) # Images can be .jpg, .jpeg, .png  so it is better to use .txt and else\n"
   ]
  },
  {
   "cell_type": "code",
   "execution_count": 16,
   "id": "16c5e5ce",
   "metadata": {},
   "outputs": [
    {
     "name": "stdout",
     "output_type": "stream",
     "text": [
      "Training images are:  319\n",
      "Validation images are:  35\n"
     ]
    }
   ],
   "source": [
    "# counting range for cycles\n",
    "countForTrain = int(len(imgs)*train_ratio)\n",
    "countForVal=int(len(imgs)*val_ratio)\n",
    "print(\"Training images are: \",countForTrain)\n",
    "print(\"Validation images are: \",countForVal)"
   ]
  },
  {
   "cell_type": "code",
   "execution_count": 17,
   "id": "b251f9d6",
   "metadata": {},
   "outputs": [],
   "source": [
    "train_image_path=r'C:\\YOLOv5_training\\dataset\\images\\train'\n",
    "train_label_path= r'C:\\YOLOv5_training\\dataset\\labels\\train'\n",
    "val_image_path = r'C:\\YOLOv5_training\\dataset\\images\\val'\n",
    "val_label_path= r'C:\\YOLOv5_training\\dataset\\labels\\val'"
   ]
  },
  {
   "cell_type": "code",
   "execution_count": 18,
   "id": "88d67363",
   "metadata": {},
   "outputs": [],
   "source": [
    "# For train directory\n",
    "for x in range(countForTrain):\n",
    "    file_image= choice(imgs) # get name of random image from original directory\n",
    "    file_text= file_image[:-4]+'.txt' # get name of corrosponding annotaion file\n",
    "    \n",
    "    # move both files to train directory\n",
    "    \n",
    "    #shutil.move(os.path.join(CrsPath,file_image),os.path.join(train_image_path,file_image))  #fpr moving\n",
    "    shutil.copy(os.path.join(CrsPath,file_image),os.path.join(train_image_path,file_image))\n",
    "    shutil.copy(os.path.join(CrsPath,file_text),os.path.join(train_label_path,file_text))\n",
    "    \n",
    "    #remove files from arrays\n",
    "    \n",
    "    imgs.remove(file_image)\n",
    "    txts.remove(file_text)\n"
   ]
  },
  {
   "cell_type": "code",
   "execution_count": 19,
   "id": "ea93f698",
   "metadata": {},
   "outputs": [],
   "source": [
    "# For val image\n",
    "for x in range (countForVal):\n",
    "    file_image=choice(imgs)\n",
    "    file_text=file_image[:-4]+'.txt'\n",
    "    \n",
    "    shutil.copy(os.path.join(CrsPath,file_image),os.path.join(val_image_path,file_image))\n",
    "    shutil.copy(os.path.join(CrsPath,file_text),os.path.join(val_label_path,file_text))\n",
    "    \n",
    "    imgs.remove(file_image)\n",
    "    txts.remove(file_text)\n",
    "    \n",
    "    "
   ]
  },
  {
   "cell_type": "code",
   "execution_count": null,
   "id": "cb1bd099",
   "metadata": {},
   "outputs": [],
   "source": []
  }
 ],
 "metadata": {
  "kernelspec": {
   "display_name": "tfgpu_2",
   "language": "python",
   "name": "tfgpu_2"
  },
  "language_info": {
   "codemirror_mode": {
    "name": "ipython",
    "version": 3
   },
   "file_extension": ".py",
   "mimetype": "text/x-python",
   "name": "python",
   "nbconvert_exporter": "python",
   "pygments_lexer": "ipython3",
   "version": "3.7.13"
  }
 },
 "nbformat": 4,
 "nbformat_minor": 5
}
